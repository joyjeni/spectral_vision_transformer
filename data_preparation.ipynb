{
  "nbformat": 4,
  "nbformat_minor": 0,
  "metadata": {
    "colab": {
      "private_outputs": true,
      "provenance": [],
      "authorship_tag": "ABX9TyMKzebohVoqSCePl0sHvl/t",
      "include_colab_link": true
    },
    "kernelspec": {
      "name": "python3",
      "display_name": "Python 3"
    },
    "language_info": {
      "name": "python"
    },
    "accelerator": "GPU",
    "gpuClass": "standard"
  },
  "cells": [
    {
      "cell_type": "markdown",
      "metadata": {
        "id": "view-in-github",
        "colab_type": "text"
      },
      "source": [
        "<a href=\"https://colab.research.google.com/github/joyjeni/spectral_vision_transformer/blob/development/data_preparation.ipynb\" target=\"_parent\"><img src=\"https://colab.research.google.com/assets/colab-badge.svg\" alt=\"Open In Colab\"/></a>"
      ]
    },
    {
      "cell_type": "code",
      "execution_count": null,
      "metadata": {
        "id": "CgEwUel9YgjP"
      },
      "outputs": [],
      "source": [
        "from google.colab import drive\n",
        "drive.mount('/content/drive')"
      ]
    },
    {
      "cell_type": "code",
      "source": [
        "%cd /content/drive/My Drive/PhD/image_recognition"
      ],
      "metadata": {
        "id": "Zel5G57_Yuws"
      },
      "execution_count": null,
      "outputs": []
    },
    {
      "cell_type": "code",
      "source": [
        "import torch\n",
        "import torchvision\n",
        "\n",
        "# Note: Required to have PyTorch > 1.11.0 & torchvision > 0.12.0 for Food101 dataset\n",
        "assert int(torch.__version__.split(\".\")[1]) >= 11\n",
        "assert int(torchvision.__version__.split(\".\")[1]) >= 11\n",
        "\n",
        "import torchvision.datasets as datasets\n",
        "import torchvision.transforms as transforms\n",
        "\n",
        "# Setup data directory\n",
        "import pathlib\n",
        "data_dir = pathlib.Path(\"../data\")"
      ],
      "metadata": {
        "id": "5sy5OJ_rZFIs"
      },
      "execution_count": null,
      "outputs": []
    },
    {
      "cell_type": "code",
      "source": [
        "# Get training data\n",
        "train_data = datasets.Food101(root=data_dir,\n",
        "                              split=\"train\",\n",
        "                              # transform=transforms.ToTensor(),\n",
        "                              download=True)\n",
        "\n",
        "# Get testing data\n",
        "test_data = datasets.Food101(root=data_dir,\n",
        "                             split=\"test\",\n",
        "                             # transform=transforms.ToTensor(),\n",
        "                             download=True)"
      ],
      "metadata": {
        "id": "KptieuRXZuq4"
      },
      "execution_count": null,
      "outputs": []
    },
    {
      "cell_type": "code",
      "source": [],
      "metadata": {
        "id": "uy8Kz1FHZ1AL"
      },
      "execution_count": null,
      "outputs": []
    },
    {
      "cell_type": "markdown",
      "source": [
        "**2. Create Datasets and DataLoaders**"
      ],
      "metadata": {
        "id": "1OqjbgHraJib"
      }
    },
    {
      "cell_type": "code",
      "source": [
        "train_data"
      ],
      "metadata": {
        "id": "LTw5JaUWaNQS"
      },
      "execution_count": null,
      "outputs": []
    },
    {
      "cell_type": "code",
      "source": [
        "class_names = train_data.classes\n",
        "#class_names[:10]\n",
        "class_names"
      ],
      "metadata": {
        "id": "JjzkxwLiaNNc"
      },
      "execution_count": null,
      "outputs": []
    },
    {
      "cell_type": "code",
      "source": [
        "# View first sample (PIL Image format)\n",
        "print(class_names[train_data[0][1]])\n",
        "train_data[0][0]"
      ],
      "metadata": {
        "id": "o3R3LtrTaNLO"
      },
      "execution_count": null,
      "outputs": []
    },
    {
      "cell_type": "markdown",
      "source": [
        "**Find subset of appropriate classes**"
      ],
      "metadata": {
        "id": "KEN7UJjAa1po"
      }
    },
    {
      "cell_type": "code",
      "source": [
        "# Get random 10% of training images\n",
        "import random\n",
        "\n",
        "# Setup data paths\n",
        "data_path = data_dir / \"food-101\" / \"images\"\n",
        "#target_classes = [\"pizza\", \"steak\", \"sushi\"]\n",
        "target_classes=[class_names]\n",
        "\n",
        "\n",
        "# Change amount of data to get (e.g. 0.1 = random 10%, 0.2 = random 20%)\n",
        "amount_to_get = 0.2\n",
        "\n",
        "# Create function to separate a random amount of data\n",
        "def get_subset(image_path=data_path,\n",
        "               data_splits=[\"train\", \"test\"], \n",
        "               #target_classes=[\"pizza\", \"steak\", \"sushi\"],\n",
        "               target_classes=[class_names],\n",
        "               amount=0.1,\n",
        "               seed=42):\n",
        "    random.seed(42)\n",
        "    label_splits = {}\n",
        "    \n",
        "    # Get labels\n",
        "    for data_split in data_splits:\n",
        "        print(f\"[INFO] Creating image split for: {data_split}...\")\n",
        "        label_path = data_dir / \"food-101\" / \"meta\" / f\"{data_split}.txt\"\n",
        "        with open(label_path, \"r\") as f:\n",
        "            labels = [line.strip(\"\\n\") for line in f.readlines() if line.split(\"/\")[0] in target_classes] \n",
        "        \n",
        "        # Get random subset of target classes image ID's\n",
        "        number_to_sample = round(amount * len(labels))\n",
        "        print(f\"[INFO] Getting random subset of {number_to_sample} images for {data_split}...\")\n",
        "        sampled_images = random.sample(labels, k=number_to_sample)\n",
        "        \n",
        "        # Apply full paths\n",
        "        image_paths = [pathlib.Path(str(image_path / sample_image) + \".jpg\") for sample_image in sampled_images]\n",
        "        label_splits[data_split] = image_paths\n",
        "    return label_splits\n",
        "        \n",
        "label_splits = get_subset(amount=amount_to_get)\n",
        "label_splits[\"train\"][:10]"
      ],
      "metadata": {
        "id": "y3LU9KBeaNIc"
      },
      "execution_count": null,
      "outputs": []
    },
    {
      "cell_type": "code",
      "source": [],
      "metadata": {
        "id": "F95QSTgIaNGS"
      },
      "execution_count": null,
      "outputs": []
    },
    {
      "cell_type": "markdown",
      "source": [
        "**Move training and testing images to dedicated folders**"
      ],
      "metadata": {
        "id": "ftNSD-JvcPJQ"
      }
    },
    {
      "cell_type": "code",
      "source": [
        "# Create target directory path\n",
        "target_dir_name = f\"../data/food-101-{str(int(amount_to_get*100))}_percent\"\n",
        "print(f\"Creating directory: '{target_dir_name}'\")\n",
        "\n",
        "# Setup the directories\n",
        "target_dir = pathlib.Path(target_dir_name)\n",
        "\n",
        "# Make the directories\n",
        "target_dir.mkdir(parents=True, exist_ok=True)"
      ],
      "metadata": {
        "id": "Ybw5hZ3xaNDV"
      },
      "execution_count": null,
      "outputs": []
    },
    {
      "cell_type": "code",
      "source": [
        "import shutil\n",
        "\n",
        "for image_split in label_splits.keys():\n",
        "    for image_path in label_splits[str(image_split)]:\n",
        "        dest_dir = target_dir / image_split / image_path.parent.stem / image_path.name\n",
        "        if not dest_dir.parent.is_dir():\n",
        "            dest_dir.parent.mkdir(parents=True, exist_ok=True)\n",
        "        print(f\"[INFO] Copying {image_path} to {dest_dir}...\")\n",
        "        shutil.copy2(image_path, dest_dir)"
      ],
      "metadata": {
        "id": "oC9i4jByaNAV"
      },
      "execution_count": null,
      "outputs": []
    },
    {
      "cell_type": "code",
      "source": [
        "# Check lengths of directories\n",
        "def walk_through_dir(dir_path):\n",
        "  \"\"\"\n",
        "  Walks through dir_path returning its contents.\n",
        "  Args:\n",
        "    dir_path (str): target directory\n",
        "  \n",
        "  Returns:\n",
        "    A print out of:\n",
        "      number of subdiretories in dir_path\n",
        "      number of images (files) in each subdirectory\n",
        "      name of each subdirectory\n",
        "  \"\"\"\n",
        "  import os\n",
        "  for dirpath, dirnames, filenames in os.walk(dir_path):\n",
        "    print(f\"There are {len(dirnames)} directories and {len(filenames)} images in '{dirpath}'.\")\n",
        "    \n",
        "walk_through_dir(target_dir)"
      ],
      "metadata": {
        "id": "LCgRLzrucXG0"
      },
      "execution_count": null,
      "outputs": []
    },
    {
      "cell_type": "markdown",
      "source": [
        "***Zip up images folder to be more easily transported***"
      ],
      "metadata": {
        "id": "WEmtXzEAcmbL"
      }
    },
    {
      "cell_type": "code",
      "source": [
        "# Zip pizza_steak_sushi images\n",
        "zip_file_name = data_dir / f\"food-101_{str(int(amount_to_get*100))}_percent\"\n",
        "shutil.make_archive(zip_file_name, \n",
        "                    format=\"zip\", \n",
        "                    root_dir=target_dir)"
      ],
      "metadata": {
        "id": "dTE0E-XvcXK4"
      },
      "execution_count": null,
      "outputs": []
    },
    {
      "cell_type": "code",
      "source": [
        "!ls -la ../data/"
      ],
      "metadata": {
        "id": "_slL1AzIcXNx"
      },
      "execution_count": null,
      "outputs": []
    },
    {
      "cell_type": "code",
      "source": [
        "!mkdir -p food101\n",
        "#!unzip ../data/food101_20_percent.zip -d food101_20"
      ],
      "metadata": {
        "id": "0xzAXiabcXQB"
      },
      "execution_count": null,
      "outputs": []
    },
    {
      "cell_type": "code",
      "source": [
        "!zip -r ../data/food101"
      ],
      "metadata": {
        "id": "61geju-Lpn3g"
      },
      "execution_count": null,
      "outputs": []
    },
    {
      "cell_type": "code",
      "source": [
        "!ls ../data"
      ],
      "metadata": {
        "id": "ES-QZn8QcXTl"
      },
      "execution_count": null,
      "outputs": []
    },
    {
      "cell_type": "code",
      "source": [
        "walk_through_dir(\"food101\")"
      ],
      "metadata": {
        "id": "HM7tPB3vdJT7"
      },
      "execution_count": null,
      "outputs": []
    },
    {
      "cell_type": "code",
      "source": [
        "!ls"
      ],
      "metadata": {
        "id": "9PIUZ27IdJXG"
      },
      "execution_count": null,
      "outputs": []
    },
    {
      "cell_type": "code",
      "source": [],
      "metadata": {
        "id": "nUxSK9Q-dJau"
      },
      "execution_count": null,
      "outputs": []
    },
    {
      "cell_type": "code",
      "source": [],
      "metadata": {
        "id": "4HrkrzqOdJc2"
      },
      "execution_count": null,
      "outputs": []
    }
  ]
}